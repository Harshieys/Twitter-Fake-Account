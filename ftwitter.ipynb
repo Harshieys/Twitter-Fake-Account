{
 "cells": [
  {
   "cell_type": "code",
   "execution_count": null,
   "metadata": {},
   "outputs": [],
   "source": [
    "import tweepy\n",
    "import pandas as pd\n",
    "\n",
    "bearer_token =\"###############bearer token####################\"\n",
    "client = tweepy.Client(bearer_token)"
   ]
  },
  {
   "cell_type": "code",
   "execution_count": null,
   "metadata": {},
   "outputs": [],
   "source": [
    "user=input(\"Enter username:\")\n",
    "response = client.get_users(usernames=user, user_fields=[\"profile_image_url\",\n",
    "                                                         \"created_at\",\n",
    "                                                         \"description\",\n",
    "                                                         \"location\",\n",
    "                                                         \"public_metrics\",\n",
    "                                                         \"verified\",\n",
    "                                                         \"protected\",\n",
    "                                                         \"pinned_tweet_id\",\n",
    "                                                         \"url\"\n",
    "                                                        ],tweet_fields=[])\n"
   ]
  },
  {
   "cell_type": "code",
   "execution_count": null,
   "metadata": {},
   "outputs": [],
   "source": [
    "users_df = pd.DataFrame()\n",
    "for tweet in response.data:\n",
    "    users_df = users_df.append(pd.DataFrame({\n",
    "        'id':tweet.data[\"id\"],\n",
    "        'name':tweet.data[\"name\"],\n",
    "        'username': tweet.data[\"username\"], \n",
    "        'created_date': tweet.data.get(\"created_at\"),\n",
    "        'profile_image':tweet.data.get(\"profile_image_url\"),\n",
    "        'bio': tweet.data.get(\"description\"),\n",
    "        'entities': tweet.entities,\n",
    "        'location':tweet.data.get(\"location\"),\n",
    "        'pinned_tweet':tweet.pinned_tweet_id,\n",
    "        'protected':tweet.data.get(\"protected\"),\n",
    "        'followers':tweet.public_metrics['followers_count'],\n",
    "        'following':tweet.public_metrics['following_count'],\n",
    "        'listed':tweet.public_metrics['listed_count'],\n",
    "        'tweets':tweet.public_metrics['tweet_count'],\n",
    "        'likes':tweet.data.get('likes_count'),\n",
    "        'verified':tweet.data.get(\"verified\"),\n",
    "        'url':tweet.url\n",
    "    },index=[1]))\n",
    "    \n",
    "# show the dataframe\n",
    "users_df .head()"
   ]
  },
  {
   "cell_type": "code",
   "execution_count": null,
   "metadata": {},
   "outputs": [],
   "source": [
    "users_df.to_csv('file3.csv', index=False)"
   ]
  },
  {
   "cell_type": "code",
   "execution_count": null,
   "metadata": {},
   "outputs": [],
   "source": [
    "import csv\n",
    "li=[]\n",
    "li1=[]\n",
    "with open('file3.csv','r')as file:\n",
    "    csv_reader=csv.reader(file)\n",
    "    for line in csv_reader:\n",
    "        li.append(line[1])\n",
    "        li.append(line[2])\n",
    "        li.append(line[10])\n",
    "        li.append(line[11])\n",
    "        li.append(line[12])\n",
    "        li.append(line[13])\n",
    "        li.append(line[14])\n",
    "print(li)\n",
    "screen_name, name,followers_count,friends_count,listed_count,tweet_count,likes_count=li[7],li[8],li[9],li[10],li[11],li[12],len(li[13])\n",
    "print(screen_name, name,followers_count,friends_count,listed_count,tweet_count,likes_count)"
   ]
  },
  {
   "cell_type": "code",
   "execution_count": null,
   "metadata": {},
   "outputs": [],
   "source": [
    "import numpy as np\n",
    "import pickle\n",
    "def maxSubsequence(screen_name, name): \n",
    "# find the length of the strings\n",
    "    global m,n \n",
    "    m = len(screen_name) \n",
    "    n = len(name) \n",
    "\n",
    "# declaring the array for storing the dp values \n",
    "    global L\n",
    "    L = [[None]*(n + 1) for i in range(m + 1)] \n",
    "\n",
    "    for i in range(m + 1): \n",
    "        for j in range(n + 1): \n",
    "            if i == 0 or j == 0 : \n",
    "                L[i][j] = 0\n",
    "            elif screen_name[i-1] == name[j-1]: \n",
    "                L[i][j] = L[i-1][j-1]+1\n",
    "            else: \n",
    "                L[i][j] = max(L[i-1][j], L[i][j-1]) \n",
    "\n",
    "# L[m][n] contains the length of LCS of X[0..n-1] & Y[0..m-1] \n",
    "    return L[m][n]\n",
    "\n",
    "def normaliseNameWeight():\n",
    "    subseq = maxSubsequence(screen_name,name)\n",
    "    return (subseq/len(name))\n",
    "\n",
    "name_wt=normaliseNameWeight()\n",
    "\n",
    "arr = np.array([[name_wt,tweet_count,followers_count,friends_count,likes_count,listed_count]])\n",
    "global z\n",
    "z=pd.DataFrame(arr)\n",
    "print(z)\n",
    "with open('pickleOutput', 'rb') as f:\n",
    "    mp = pickle.load(f)\n",
    "\n",
    "pickleTest = mp.predict(z)\n",
    "if  pickleTest==0:\n",
    "    auth='Real'\n",
    "    print(\"The value of pickleTest is\", auth)\n",
    "else:\n",
    "    auth='Fake'\n",
    "    print(\"The value of pickleTest is\", auth)"
   ]
  },
  {
   "cell_type": "code",
   "execution_count": null,
   "metadata": {},
   "outputs": [],
   "source": []
  }
 ],
 "metadata": {
  "kernelspec": {
   "display_name": "Python 3",
   "language": "python",
   "name": "python3"
  },
  "language_info": {
   "codemirror_mode": {
    "name": "ipython",
    "version": 3
   },
   "file_extension": ".py",
   "mimetype": "text/x-python",
   "name": "python",
   "nbconvert_exporter": "python",
   "pygments_lexer": "ipython3",
   "version": "3.7.3"
  }
 },
 "nbformat": 4,
 "nbformat_minor": 2
}
